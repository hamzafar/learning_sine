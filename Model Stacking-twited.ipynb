{
 "cells": [
  {
   "cell_type": "code",
   "execution_count": 1,
   "metadata": {
    "collapsed": true
   },
   "outputs": [],
   "source": [
    "import pandas as pd\n",
    "import numpy as np"
   ]
  },
  {
   "cell_type": "code",
   "execution_count": 2,
   "metadata": {
    "collapsed": true
   },
   "outputs": [],
   "source": [
    "%matplotlib inline\n",
    "import matplotlib.pyplot as plt\n",
    "import matplotlib\n",
    "matplotlib.style.use('ggplot')\n",
    "\n",
    "import math"
   ]
  },
  {
   "cell_type": "code",
   "execution_count": 3,
   "metadata": {
    "collapsed": false
   },
   "outputs": [],
   "source": [
    "np.random.seed(100)\n",
    "N = 500 # number of data points"
   ]
  },
  {
   "cell_type": "code",
   "execution_count": 4,
   "metadata": {
    "collapsed": true
   },
   "outputs": [],
   "source": [
    "t = np.linspace(0, 4*np.pi, N)\n",
    "# t = t/(max(t))\n",
    "data = 15.0*np.sin(t+0.001) + 0.05 + np.random.randn(N) # create artificial data with noise\n",
    "# data = 3.0*np.sin(t+100) "
   ]
  },
  {
   "cell_type": "code",
   "execution_count": 5,
   "metadata": {
    "collapsed": false
   },
   "outputs": [],
   "source": [
    "df= pd.DataFrame({'X1':t, 'Y':data})"
   ]
  },
  {
   "cell_type": "code",
   "execution_count": 6,
   "metadata": {
    "collapsed": false
   },
   "outputs": [
    {
     "data": {
      "image/png": "[encoded data removed]",
      "text/plain": [
       "<matplotlib.figure.Figure at 0x8b644a8>"
      ]
     },
     "metadata": {},
     "output_type": "display_data"
    }
   ],
   "source": [
    "def plot_data(data =df):\n",
    "    plt.plot(data['X1'],data['Y'],'k.')\n",
    "    plt.xlabel('x')\n",
    "    plt.ylabel('y')\n",
    "\n",
    "plot_data()"
   ]
  },
  {
   "cell_type": "code",
   "execution_count": 7,
   "metadata": {
    "collapsed": true
   },
   "outputs": [],
   "source": [
    "def polynomial_data(data, power =1):\n",
    "    tmp_df = pd.DataFrame()\n",
    "    col_degree = ['X'+str(i) for i in range(1,power+1)]\n",
    "    \n",
    "    for i in range(1,power+1):\n",
    "        tmp_df[col_degree[i-1]]=df['X1']**i\n",
    "        \n",
    "    return tmp_df"
   ]
  },
  {
   "cell_type": "code",
   "execution_count": 8,
   "metadata": {
    "collapsed": false
   },
   "outputs": [],
   "source": [
    "#5 degree polynomial\n",
    "# df_poly = pd.concat([polynomial_data(df,5), df['Y']], axis=1)"
   ]
  },
  {
   "cell_type": "code",
   "execution_count": 9,
   "metadata": {
    "collapsed": false
   },
   "outputs": [],
   "source": [
    "#n degree polynomial\n",
    "df_poly = pd.concat([polynomial_data(df,5), df['Y']], axis=1)"
   ]
  },
  {
   "cell_type": "code",
   "execution_count": 10,
   "metadata": {
    "collapsed": false
   },
   "outputs": [
    {
     "data": {
      "text/html": [
       "<div>\n",
       "<table border=\"1\" class=\"dataframe\">\n",
       "  <thead>\n",
       "    <tr style=\"text-align: right;\">\n",
       "      <th></th>\n",
       "      <th>X1</th>\n",
       "      <th>X2</th>\n",
       "      <th>X3</th>\n",
       "      <th>X4</th>\n",
       "      <th>X5</th>\n",
       "      <th>Y</th>\n",
       "    </tr>\n",
       "  </thead>\n",
       "  <tbody>\n",
       "    <tr>\n",
       "      <th>0</th>\n",
       "      <td>0.000000</td>\n",
       "      <td>0.000000</td>\n",
       "      <td>0.000000</td>\n",
       "      <td>0.000000e+00</td>\n",
       "      <td>0.000000e+00</td>\n",
       "      <td>-1.684765</td>\n",
       "    </tr>\n",
       "    <tr>\n",
       "      <th>1</th>\n",
       "      <td>0.025183</td>\n",
       "      <td>0.000634</td>\n",
       "      <td>0.000016</td>\n",
       "      <td>4.021956e-07</td>\n",
       "      <td>1.012853e-08</td>\n",
       "      <td>0.785382</td>\n",
       "    </tr>\n",
       "    <tr>\n",
       "      <th>2</th>\n",
       "      <td>0.050366</td>\n",
       "      <td>0.002537</td>\n",
       "      <td>0.000128</td>\n",
       "      <td>6.435129e-06</td>\n",
       "      <td>3.241131e-07</td>\n",
       "      <td>1.973190</td>\n",
       "    </tr>\n",
       "    <tr>\n",
       "      <th>3</th>\n",
       "      <td>0.075549</td>\n",
       "      <td>0.005708</td>\n",
       "      <td>0.000431</td>\n",
       "      <td>3.257784e-05</td>\n",
       "      <td>2.461234e-06</td>\n",
       "      <td>0.944683</td>\n",
       "    </tr>\n",
       "    <tr>\n",
       "      <th>4</th>\n",
       "      <td>0.100732</td>\n",
       "      <td>0.010147</td>\n",
       "      <td>0.001022</td>\n",
       "      <td>1.029621e-04</td>\n",
       "      <td>1.037162e-05</td>\n",
       "      <td>2.554676</td>\n",
       "    </tr>\n",
       "  </tbody>\n",
       "</table>\n",
       "</div>"
      ],
      "text/plain": [
       "         X1        X2        X3            X4            X5         Y\n",
       "0  0.000000  0.000000  0.000000  0.000000e+00  0.000000e+00 -1.684765\n",
       "1  0.025183  0.000634  0.000016  4.021956e-07  1.012853e-08  0.785382\n",
       "2  0.050366  0.002537  0.000128  6.435129e-06  3.241131e-07  1.973190\n",
       "3  0.075549  0.005708  0.000431  3.257784e-05  2.461234e-06  0.944683\n",
       "4  0.100732  0.010147  0.001022  1.029621e-04  1.037162e-05  2.554676"
      ]
     },
     "execution_count": 10,
     "metadata": {},
     "output_type": "execute_result"
    }
   ],
   "source": [
    "df_poly.head()"
   ]
  },
  {
   "cell_type": "code",
   "execution_count": 12,
   "metadata": {
    "collapsed": false
   },
   "outputs": [
    {
     "name": "stdout",
     "output_type": "stream",
     "text": [
      "Checking whether there is an H2O instance running at http://localhost:54321. connected.\n"
     ]
    },
    {
     "data": {
      "text/html": [
       "<div style=\"overflow:auto\"><table style=\"width:50%\"><tr><td>H2O cluster uptime:</td>\n",
       "<td>49 secs</td></tr>\n",
       "<tr><td>H2O cluster version:</td>\n",
       "<td>3.10.4.1</td></tr>\n",
       "<tr><td>H2O cluster version age:</td>\n",
       "<td>5 days </td></tr>\n",
       "<tr><td>H2O cluster name:</td>\n",
       "<td>H2O_from_python_user_ykmbu1</td></tr>\n",
       "<tr><td>H2O cluster total nodes:</td>\n",
       "<td>1</td></tr>\n",
       "<tr><td>H2O cluster free memory:</td>\n",
       "<td>1.898 Gb</td></tr>\n",
       "<tr><td>H2O cluster total cores:</td>\n",
       "<td>2</td></tr>\n",
       "<tr><td>H2O cluster allowed cores:</td>\n",
       "<td>2</td></tr>\n",
       "<tr><td>H2O cluster status:</td>\n",
       "<td>locked, healthy</td></tr>\n",
       "<tr><td>H2O connection url:</td>\n",
       "<td>http://localhost:54321</td></tr>\n",
       "<tr><td>H2O connection proxy:</td>\n",
       "<td>None</td></tr>\n",
       "<tr><td>H2O internal security:</td>\n",
       "<td>False</td></tr>\n",
       "<tr><td>Python version:</td>\n",
       "<td>2.7.11 final</td></tr></table></div>"
      ],
      "text/plain": [
       "--------------------------  ---------------------------\n",
       "H2O cluster uptime:         49 secs\n",
       "H2O cluster version:        3.10.4.1\n",
       "H2O cluster version age:    5 days\n",
       "H2O cluster name:           H2O_from_python_user_ykmbu1\n",
       "H2O cluster total nodes:    1\n",
       "H2O cluster free memory:    1.898 Gb\n",
       "H2O cluster total cores:    2\n",
       "H2O cluster allowed cores:  2\n",
       "H2O cluster status:         locked, healthy\n",
       "H2O connection url:         http://localhost:54321\n",
       "H2O connection proxy:\n",
       "H2O internal security:      False\n",
       "Python version:             2.7.11 final\n",
       "--------------------------  ---------------------------"
      ]
     },
     "metadata": {},
     "output_type": "display_data"
    }
   ],
   "source": [
    "import h2o\n",
    "h2o.init(min_mem_size='2G')"
   ]
  },
  {
   "cell_type": "code",
   "execution_count": 13,
   "metadata": {
    "collapsed": false
   },
   "outputs": [
    {
     "name": "stdout",
     "output_type": "stream",
     "text": [
      "Parse progress: |█████████████████████████████████████████████████████████| 100%\n"
     ]
    }
   ],
   "source": [
    "hdf= h2o.H2OFrame(df_poly)"
   ]
  },
  {
   "cell_type": "code",
   "execution_count": 14,
   "metadata": {
    "collapsed": false
   },
   "outputs": [],
   "source": [
    "hdf_train, hdf_validate = hdf.split_frame(ratios=[0.70], seed=10)"
   ]
  },
  {
   "cell_type": "code",
   "execution_count": 15,
   "metadata": {
    "collapsed": false
   },
   "outputs": [
    {
     "name": "stdout",
     "output_type": "stream",
     "text": [
      "[u'X1', u'X2', u'X3', u'X4', u'X5']\n"
     ]
    }
   ],
   "source": [
    "input_name= hdf.col_names\n",
    "input_name.remove('Y')\n",
    "print input_name"
   ]
  },
  {
   "cell_type": "code",
   "execution_count": 16,
   "metadata": {
    "collapsed": false
   },
   "outputs": [],
   "source": [
    "from h2o.estimators.deeplearning import H2ODeepLearningEstimator\n",
    "\n",
    "from h2o.estimators.random_forest import H2ORandomForestEstimator\n",
    "from h2o.estimators.gbm import H2OGradientBoostingEstimator\n"
   ]
  },
  {
   "cell_type": "code",
   "execution_count": 17,
   "metadata": {
    "collapsed": false
   },
   "outputs": [],
   "source": [
    "from h2o.estimators.stackedensemble import H2OStackedEnsembleEstimator\n"
   ]
  },
  {
   "cell_type": "code",
   "execution_count": 18,
   "metadata": {
    "collapsed": false
   },
   "outputs": [
    {
     "name": "stdout",
     "output_type": "stream",
     "text": [
      "gbm Model Build progress: |███████████████████████████████████████████████| 100%\n",
      "drf Model Build progress: |███████████████████████████████████████████████| 100%\n"
     ]
    }
   ],
   "source": [
    "nfolds =5\n",
    "my_gbm = H2OGradientBoostingEstimator(ntrees=10,\n",
    "                                      max_depth=3,\n",
    "                                      min_rows=2,\n",
    "                                      learn_rate=0.2,\n",
    "                                      nfolds=nfolds,\n",
    "                                      fold_assignment=\"Modulo\",\n",
    "                                      keep_cross_validation_predictions=True,\n",
    "                                      seed=1)\n",
    "my_gbm.train(x = input_name, y = 'Y', training_frame=hdf_train, validation_frame=hdf_validate)\n",
    "\n",
    "# Train and cross-validate a RF\n",
    "my_rf = H2ORandomForestEstimator(ntrees=50,\n",
    "                                 nfolds=nfolds,\n",
    "                                 fold_assignment=\"Modulo\",\n",
    "                                 keep_cross_validation_predictions=True,\n",
    "                                 seed=1)\n",
    "my_rf.train(x = input_name, y = 'Y', training_frame=hdf_train, validation_frame=hdf_validate)\n",
    "\n",
    "\n",
    "\n",
    "# Train a stacked ensemble using the GBM and GLM above\n",
    "# ensemble = H2OStackedEnsembleEstimator(model_id=\"my_ensemble_binomial\",\n",
    "#                                        base_models=[my_gbm.model_id, my_rf.model_id])\n",
    "# ensemble.train(x = input_name, y = 'Y', training_frame=hdf_train, validation_frame=hdf_validate)"
   ]
  },
  {
   "cell_type": "code",
   "execution_count": 67,
   "metadata": {
    "collapsed": true
   },
   "outputs": [],
   "source": [
    "meta_learner = H2ODeepLearningEstimator(seed =10,\n",
    "                                        hidden =[10,10,10,10,10,10,10],\n",
    "                                        epochs =5000,\n",
    "                                        l2=1e-3, \n",
    "                                        model_id='dl10',\n",
    "                                        overwrite_with_best_model = False,\n",
    "                                        rate = 0.5\n",
    "                                       )"
   ]
  },
  {
   "cell_type": "code",
   "execution_count": null,
   "metadata": {
    "collapsed": false
   },
   "outputs": [],
   "source": []
  },
  {
   "cell_type": "code",
   "execution_count": 68,
   "metadata": {
    "collapsed": true
   },
   "outputs": [],
   "source": [
    "def get_level_one_data(base_model=[my_gbm, my_rf], response = 'Y'):\n",
    "    level_one_data= hdf_train[response]\n",
    "    \n",
    "    for i in base_model:\n",
    "        level_one_data = level_one_data.cbind(i.predict(hdf_train))\n",
    "        \n",
    "    return level_one_data\n"
   ]
  },
  {
   "cell_type": "code",
   "execution_count": 69,
   "metadata": {
    "collapsed": false
   },
   "outputs": [],
   "source": [
    "def esemble_prediction(level_one_data, base_model=[my_gbm, my_rf], response = 'Y'):\n",
    "    \n",
    "    x = level_one_data.col_names\n",
    "    x.remove(response)\n",
    "\n",
    "    level_one_data_test, level_one_data_valid = level_one_data.split_frame([0.75])\n",
    "\n",
    "    meta_learner.train(x = x, y = response, training_frame = level_one_data_test,\n",
    "                       validation_frame=level_one_data_valid)\n",
    "    "
   ]
  },
  {
   "cell_type": "code",
   "execution_count": 70,
   "metadata": {
    "collapsed": false
   },
   "outputs": [
    {
     "name": "stdout",
     "output_type": "stream",
     "text": [
      "gbm prediction progress: |████████████████████████████████████████████████| 100%\n",
      "drf prediction progress: |████████████████████████████████████████████████| 100%\n",
      "deeplearning Model Build progress: |██████████████████████████████████████| 100%\n"
     ]
    }
   ],
   "source": [
    "esemble_prediction(level_one_data=get_level_one_data())"
   ]
  },
  {
   "cell_type": "code",
   "execution_count": 71,
   "metadata": {
    "collapsed": false
   },
   "outputs": [
    {
     "data": {
      "image/png": "[encoded data removed]",
      "text/plain": [
       "<matplotlib.figure.Figure at 0xcf1a630>"
      ]
     },
     "metadata": {},
     "output_type": "display_data"
    }
   ],
   "source": [
    "meta_learner.plot()"
   ]
  },
  {
   "cell_type": "code",
   "execution_count": 76,
   "metadata": {
    "collapsed": false
   },
   "outputs": [
    {
     "name": "stdout",
     "output_type": "stream",
     "text": [
      "gbm prediction progress: |████████████████████████████████████████████████| 100%\n",
      "drf prediction progress: |████████████████████████████████████████████████| 100%\n"
     ]
    }
   ],
   "source": [
    "l1_data = get_level_one_data()"
   ]
  },
  {
   "cell_type": "code",
   "execution_count": 79,
   "metadata": {
    "collapsed": false
   },
   "outputs": [
    {
     "data": {
      "text/html": [
       "<table>\n",
       "<thead>\n",
       "<tr><th style=\"text-align: right;\">      Y</th><th style=\"text-align: right;\">  predict</th><th style=\"text-align: right;\">  predict0</th></tr>\n",
       "</thead>\n",
       "<tbody>\n",
       "<tr><td style=\"text-align: right;\">1.97319</td><td style=\"text-align: right;\">  3.52571</td><td style=\"text-align: right;\">   5.21665</td></tr>\n",
       "<tr><td style=\"text-align: right;\">2.55468</td><td style=\"text-align: right;\">  3.52571</td><td style=\"text-align: right;\">   5.22937</td></tr>\n",
       "<tr><td style=\"text-align: right;\">2.46285</td><td style=\"text-align: right;\">  3.52571</td><td style=\"text-align: right;\">   5.22937</td></tr>\n",
       "<tr><td style=\"text-align: right;\">2.54387</td><td style=\"text-align: right;\">  3.52571</td><td style=\"text-align: right;\">   5.25553</td></tr>\n",
       "<tr><td style=\"text-align: right;\">1.62528</td><td style=\"text-align: right;\">  3.52571</td><td style=\"text-align: right;\">   5.25553</td></tr>\n",
       "<tr><td style=\"text-align: right;\">2.87677</td><td style=\"text-align: right;\">  3.52571</td><td style=\"text-align: right;\">   5.30407</td></tr>\n",
       "<tr><td style=\"text-align: right;\">3.6903 </td><td style=\"text-align: right;\">  3.93272</td><td style=\"text-align: right;\">   5.35873</td></tr>\n",
       "<tr><td style=\"text-align: right;\">3.34416</td><td style=\"text-align: right;\">  3.93272</td><td style=\"text-align: right;\">   5.36716</td></tr>\n",
       "<tr><td style=\"text-align: right;\">3.945  </td><td style=\"text-align: right;\">  4.41001</td><td style=\"text-align: right;\">   5.77023</td></tr>\n",
       "<tr><td style=\"text-align: right;\">5.7045 </td><td style=\"text-align: right;\">  5.6593 </td><td style=\"text-align: right;\">   6.27042</td></tr>\n",
       "</tbody>\n",
       "</table>"
      ]
     },
     "metadata": {},
     "output_type": "display_data"
    },
    {
     "data": {
      "text/plain": []
     },
     "execution_count": 79,
     "metadata": {},
     "output_type": "execute_result"
    }
   ],
   "source": [
    "l1_data"
   ]
  },
  {
   "cell_type": "code",
   "execution_count": null,
   "metadata": {
    "collapsed": false
   },
   "outputs": [],
   "source": [
    "def get_super_learner_prediction():\n",
    "    jpa"
   ]
  },
  {
   "cell_type": "code",
   "execution_count": 72,
   "metadata": {
    "collapsed": false
   },
   "outputs": [
    {
     "name": "stdout",
     "output_type": "stream",
     "text": [
      "train mse:  1.23123779885\n",
      "valid mse:  1.37817775488\n"
     ]
    }
   ],
   "source": [
    "print 'train mse: ', meta_learner.mse(train=True)\n",
    "print 'valid mse: ', meta_learner.mse(valid=True)"
   ]
  },
  {
   "cell_type": "code",
   "execution_count": null,
   "metadata": {
    "collapsed": false
   },
   "outputs": [],
   "source": [
    "\n"
   ]
  },
  {
   "cell_type": "code",
   "execution_count": 73,
   "metadata": {
    "collapsed": false
   },
   "outputs": [
    {
     "name": "stdout",
     "output_type": "stream",
     "text": [
      "deeplearning prediction progress: |███████████████████████████████████████| 100%\n"
     ]
    },
    {
     "data": {
      "text/plain": [
       "<matplotlib.axes._subplots.AxesSubplot at 0xd5c5278>"
      ]
     },
     "execution_count": 73,
     "metadata": {},
     "output_type": "execute_result"
    },
    {
     "data": {
      "image/png": "[encoded data removed]",
      "text/plain": [
       "<matplotlib.figure.Figure at 0xd4ffdd8>"
      ]
     },
     "metadata": {},
     "output_type": "display_data"
    }
   ],
   "source": [
    "prediction= dl0.predict(hdf_validate)\n",
    "\n",
    "prediction['target']=hdf_validate['Y']\n",
    "output= prediction.as_data_frame()\n",
    "output.plot()"
   ]
  },
  {
   "cell_type": "code",
   "execution_count": null,
   "metadata": {
    "collapsed": true
   },
   "outputs": [],
   "source": []
  },
  {
   "cell_type": "code",
   "execution_count": null,
   "metadata": {
    "collapsed": false
   },
   "outputs": [],
   "source": []
  },
  {
   "cell_type": "code",
   "execution_count": null,
   "metadata": {
    "collapsed": true
   },
   "outputs": [],
   "source": [
    "# def get_level_one_data(base_model=[my_gbm, my_rf], response = 'Y'):\n",
    "#     level_one_data= hdf_train[response]\n",
    "    \n",
    "#     for i in base_model:\n",
    "#         level_one_data = level_one_data.cbind(i.predict(hdf_train))\n",
    "        \n",
    "#     return level_one_data\n",
    "\n",
    "# level_one_data= get_level_one_data()\n",
    "\n",
    "# x = level_one_data.col_names\n",
    "# x.remove(response)\n",
    "\n",
    "# level_one_data_test, level_one_data_valid = level_one_data.split_frame([0.75])\n",
    "\n",
    "# dl0.train(x = x, y = response, \n",
    "#                           training_frame=level_one_data_test, validation_frame=level_one_data_valid)\n",
    "\n",
    "\n",
    "# response = 'Y'\n",
    "# base_model=['my_gbm', 'my_rf']\n",
    "# level_one_data= hdf_train[response]\n",
    "\n",
    "# level_one_data = level_one_data.cbind(my_gbm.predict(hdf_train))\n",
    "# level_one_data = level_one_data.cbind(my_rf.predict(hdf_train))\n",
    "\n",
    "# x = level_one_data.col_names\n",
    "# x.remove(response)\n",
    "\n",
    "# level_one_data_test, level_one_data_valid = level_one_data.split_frame([0.75])\n",
    "\n",
    "# meta_learner.train(x = x, y = response, training_frame=level_one_data_test, validation_frame=level_one_data_valid)\n",
    "\n"
   ]
  }
 ],
 "metadata": {
  "kernelspec": {
   "display_name": "Python 2",
   "language": "python",
   "name": "python2"
  },
  "language_info": {
   "codemirror_mode": {
    "name": "ipython",
    "version": 2
   },
   "file_extension": ".py",
   "mimetype": "text/x-python",
   "name": "python",
   "nbconvert_exporter": "python",
   "pygments_lexer": "ipython2",
   "version": "2.7.11"
  }
 },
 "nbformat": 4,
 "nbformat_minor": 0
}
