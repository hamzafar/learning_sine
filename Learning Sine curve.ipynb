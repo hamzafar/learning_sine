{
 "cells": [
  {
   "cell_type": "code",
   "execution_count": 1,
   "metadata": {
    "collapsed": true
   },
   "outputs": [],
   "source": [
    "import pandas as pd\n",
    "import numpy as np"
   ]
  },
  {
   "cell_type": "code",
   "execution_count": 2,
   "metadata": {
    "collapsed": true
   },
   "outputs": [],
   "source": [
    "%matplotlib inline\n",
    "import matplotlib.pyplot as plt\n",
    "import matplotlib\n",
    "matplotlib.style.use('ggplot')\n",
    "\n",
    "import math"
   ]
  },
  {
   "cell_type": "code",
   "execution_count": 3,
   "metadata": {
    "collapsed": false
   },
   "outputs": [],
   "source": [
    "np.random.seed(100)\n",
    "N = 500 # number of data points"
   ]
  },
  {
   "cell_type": "code",
   "execution_count": 4,
   "metadata": {
    "collapsed": true
   },
   "outputs": [],
   "source": [
    "t = np.linspace(0, 4*np.pi, N)\n",
    "# t = t/(max(t))\n",
    "data = 15.0*np.sin(t+0.001) + 0.05 + np.random.randn(N) # create artificial data with noise\n",
    "# data = 3.0*np.sin(t+100) "
   ]
  },
  {
   "cell_type": "code",
   "execution_count": 5,
   "metadata": {
    "collapsed": false
   },
   "outputs": [],
   "source": [
    "df= pd.DataFrame({'X1':t, 'Y':data})"
   ]
  },
  {
   "cell_type": "code",
   "execution_count": 6,
   "metadata": {
    "collapsed": false
   },
   "outputs": [
    {
     "data": {
      "image/png": "[encoded data removed]",
      "text/plain": [
       "<matplotlib.figure.Figure at 0x8b93f98>"
      ]
     },
     "metadata": {},
     "output_type": "display_data"
    }
   ],
   "source": [
    "def plot_data(data =df):\n",
    "    plt.plot(data['X1'],data['Y'],'k.')\n",
    "    plt.xlabel('x')\n",
    "    plt.ylabel('y')\n",
    "\n",
    "plot_data()"
   ]
  },
  {
   "cell_type": "code",
   "execution_count": 7,
   "metadata": {
    "collapsed": true
   },
   "outputs": [],
   "source": [
    "def polynomial_data(data, power =1):\n",
    "    tmp_df = pd.DataFrame()\n",
    "    col_degree = ['X'+str(i) for i in range(1,power+1)]\n",
    "    \n",
    "    for i in range(1,power+1):\n",
    "        tmp_df[col_degree[i-1]]=df['X1']**i\n",
    "        \n",
    "    return tmp_df"
   ]
  },
  {
   "cell_type": "code",
   "execution_count": 33,
   "metadata": {
    "collapsed": false
   },
   "outputs": [],
   "source": [
    "#5 degree polynomial\n",
    "# df_poly = pd.concat([polynomial_data(df,5), df['Y']], axis=1)"
   ]
  },
  {
   "cell_type": "code",
   "execution_count": 60,
   "metadata": {
    "collapsed": false
   },
   "outputs": [],
   "source": [
    "#n degree polynomial\n",
    "df_poly = pd.concat([polynomial_data(df,35), df['Y']], axis=1)"
   ]
  },
  {
   "cell_type": "code",
   "execution_count": 61,
   "metadata": {
    "collapsed": false
   },
   "outputs": [
    {
     "data": {
      "text/html": [
       "<div>\n",
       "<table border=\"1\" class=\"dataframe\">\n",
       "  <thead>\n",
       "    <tr style=\"text-align: right;\">\n",
       "      <th></th>\n",
       "      <th>X1</th>\n",
       "      <th>X2</th>\n",
       "      <th>X3</th>\n",
       "      <th>X4</th>\n",
       "      <th>X5</th>\n",
       "      <th>X6</th>\n",
       "      <th>X7</th>\n",
       "      <th>X8</th>\n",
       "      <th>X9</th>\n",
       "      <th>X10</th>\n",
       "      <th>...</th>\n",
       "      <th>X27</th>\n",
       "      <th>X28</th>\n",
       "      <th>X29</th>\n",
       "      <th>X30</th>\n",
       "      <th>X31</th>\n",
       "      <th>X32</th>\n",
       "      <th>X33</th>\n",
       "      <th>X34</th>\n",
       "      <th>X35</th>\n",
       "      <th>Y</th>\n",
       "    </tr>\n",
       "  </thead>\n",
       "  <tbody>\n",
       "    <tr>\n",
       "      <th>0</th>\n",
       "      <td>0.000000</td>\n",
       "      <td>0.000000</td>\n",
       "      <td>0.000000</td>\n",
       "      <td>0.000000e+00</td>\n",
       "      <td>0.000000e+00</td>\n",
       "      <td>0.000000e+00</td>\n",
       "      <td>0.000000e+00</td>\n",
       "      <td>0.000000e+00</td>\n",
       "      <td>0.000000e+00</td>\n",
       "      <td>0.000000e+00</td>\n",
       "      <td>...</td>\n",
       "      <td>0.000000e+00</td>\n",
       "      <td>0.000000e+00</td>\n",
       "      <td>0.000000e+00</td>\n",
       "      <td>0.000000e+00</td>\n",
       "      <td>0.000000e+00</td>\n",
       "      <td>0.000000e+00</td>\n",
       "      <td>0.000000e+00</td>\n",
       "      <td>0.000000e+00</td>\n",
       "      <td>0.000000e+00</td>\n",
       "      <td>-1.684765</td>\n",
       "    </tr>\n",
       "    <tr>\n",
       "      <th>1</th>\n",
       "      <td>0.025183</td>\n",
       "      <td>0.000634</td>\n",
       "      <td>0.000016</td>\n",
       "      <td>4.021956e-07</td>\n",
       "      <td>1.012853e-08</td>\n",
       "      <td>2.550680e-10</td>\n",
       "      <td>6.423404e-12</td>\n",
       "      <td>1.617613e-13</td>\n",
       "      <td>4.073651e-15</td>\n",
       "      <td>1.025872e-16</td>\n",
       "      <td>...</td>\n",
       "      <td>6.760076e-44</td>\n",
       "      <td>1.702397e-45</td>\n",
       "      <td>4.287165e-47</td>\n",
       "      <td>1.079641e-48</td>\n",
       "      <td>2.718873e-50</td>\n",
       "      <td>6.846966e-52</td>\n",
       "      <td>1.724279e-53</td>\n",
       "      <td>4.342270e-55</td>\n",
       "      <td>1.093519e-56</td>\n",
       "      <td>0.785382</td>\n",
       "    </tr>\n",
       "    <tr>\n",
       "      <th>2</th>\n",
       "      <td>0.050366</td>\n",
       "      <td>0.002537</td>\n",
       "      <td>0.000128</td>\n",
       "      <td>6.435129e-06</td>\n",
       "      <td>3.241131e-07</td>\n",
       "      <td>1.632435e-08</td>\n",
       "      <td>8.221957e-10</td>\n",
       "      <td>4.141089e-11</td>\n",
       "      <td>2.085710e-12</td>\n",
       "      <td>1.050493e-13</td>\n",
       "      <td>...</td>\n",
       "      <td>9.073221e-36</td>\n",
       "      <td>4.569838e-37</td>\n",
       "      <td>2.301654e-38</td>\n",
       "      <td>1.159256e-39</td>\n",
       "      <td>5.838735e-41</td>\n",
       "      <td>2.940750e-42</td>\n",
       "      <td>1.481144e-43</td>\n",
       "      <td>7.459963e-45</td>\n",
       "      <td>3.757301e-46</td>\n",
       "      <td>1.973190</td>\n",
       "    </tr>\n",
       "    <tr>\n",
       "      <th>3</th>\n",
       "      <td>0.075549</td>\n",
       "      <td>0.005708</td>\n",
       "      <td>0.000431</td>\n",
       "      <td>3.257784e-05</td>\n",
       "      <td>2.461234e-06</td>\n",
       "      <td>1.859445e-07</td>\n",
       "      <td>1.404798e-08</td>\n",
       "      <td>1.061316e-09</td>\n",
       "      <td>8.018168e-11</td>\n",
       "      <td>6.057672e-12</td>\n",
       "      <td>...</td>\n",
       "      <td>5.154962e-31</td>\n",
       "      <td>3.894539e-32</td>\n",
       "      <td>2.942298e-33</td>\n",
       "      <td>2.222886e-34</td>\n",
       "      <td>1.679375e-35</td>\n",
       "      <td>1.268757e-36</td>\n",
       "      <td>9.585371e-38</td>\n",
       "      <td>7.241683e-39</td>\n",
       "      <td>5.471042e-40</td>\n",
       "      <td>0.944683</td>\n",
       "    </tr>\n",
       "    <tr>\n",
       "      <th>4</th>\n",
       "      <td>0.100732</td>\n",
       "      <td>0.010147</td>\n",
       "      <td>0.001022</td>\n",
       "      <td>1.029621e-04</td>\n",
       "      <td>1.037162e-05</td>\n",
       "      <td>1.044758e-06</td>\n",
       "      <td>1.052410e-07</td>\n",
       "      <td>1.060119e-08</td>\n",
       "      <td>1.067883e-09</td>\n",
       "      <td>1.075705e-10</td>\n",
       "      <td>...</td>\n",
       "      <td>1.217787e-27</td>\n",
       "      <td>1.226707e-28</td>\n",
       "      <td>1.235691e-29</td>\n",
       "      <td>1.244742e-30</td>\n",
       "      <td>1.253859e-31</td>\n",
       "      <td>1.263042e-32</td>\n",
       "      <td>1.272293e-33</td>\n",
       "      <td>1.281612e-34</td>\n",
       "      <td>1.290999e-35</td>\n",
       "      <td>2.554676</td>\n",
       "    </tr>\n",
       "  </tbody>\n",
       "</table>\n",
       "<p>5 rows × 36 columns</p>\n",
       "</div>"
      ],
      "text/plain": [
       "         X1        X2        X3            X4            X5            X6  \\\n",
       "0  0.000000  0.000000  0.000000  0.000000e+00  0.000000e+00  0.000000e+00   \n",
       "1  0.025183  0.000634  0.000016  4.021956e-07  1.012853e-08  2.550680e-10   \n",
       "2  0.050366  0.002537  0.000128  6.435129e-06  3.241131e-07  1.632435e-08   \n",
       "3  0.075549  0.005708  0.000431  3.257784e-05  2.461234e-06  1.859445e-07   \n",
       "4  0.100732  0.010147  0.001022  1.029621e-04  1.037162e-05  1.044758e-06   \n",
       "\n",
       "             X7            X8            X9           X10    ...     \\\n",
       "0  0.000000e+00  0.000000e+00  0.000000e+00  0.000000e+00    ...      \n",
       "1  6.423404e-12  1.617613e-13  4.073651e-15  1.025872e-16    ...      \n",
       "2  8.221957e-10  4.141089e-11  2.085710e-12  1.050493e-13    ...      \n",
       "3  1.404798e-08  1.061316e-09  8.018168e-11  6.057672e-12    ...      \n",
       "4  1.052410e-07  1.060119e-08  1.067883e-09  1.075705e-10    ...      \n",
       "\n",
       "            X27           X28           X29           X30           X31  \\\n",
       "0  0.000000e+00  0.000000e+00  0.000000e+00  0.000000e+00  0.000000e+00   \n",
       "1  6.760076e-44  1.702397e-45  4.287165e-47  1.079641e-48  2.718873e-50   \n",
       "2  9.073221e-36  4.569838e-37  2.301654e-38  1.159256e-39  5.838735e-41   \n",
       "3  5.154962e-31  3.894539e-32  2.942298e-33  2.222886e-34  1.679375e-35   \n",
       "4  1.217787e-27  1.226707e-28  1.235691e-29  1.244742e-30  1.253859e-31   \n",
       "\n",
       "            X32           X33           X34           X35         Y  \n",
       "0  0.000000e+00  0.000000e+00  0.000000e+00  0.000000e+00 -1.684765  \n",
       "1  6.846966e-52  1.724279e-53  4.342270e-55  1.093519e-56  0.785382  \n",
       "2  2.940750e-42  1.481144e-43  7.459963e-45  3.757301e-46  1.973190  \n",
       "3  1.268757e-36  9.585371e-38  7.241683e-39  5.471042e-40  0.944683  \n",
       "4  1.263042e-32  1.272293e-33  1.281612e-34  1.290999e-35  2.554676  \n",
       "\n",
       "[5 rows x 36 columns]"
      ]
     },
     "execution_count": 61,
     "metadata": {},
     "output_type": "execute_result"
    }
   ],
   "source": [
    "df_poly.head()"
   ]
  },
  {
   "cell_type": "code",
   "execution_count": 62,
   "metadata": {
    "collapsed": false
   },
   "outputs": [
    {
     "name": "stdout",
     "output_type": "stream",
     "text": [
      "Checking whether there is an H2O instance running at http://localhost:54321. connected.\n",
      "Warning: Your H2O cluster version is too old (3 months and 26 days)! Please download and install the latest version from http://h2o.ai/download/\n"
     ]
    },
    {
     "data": {
      "text/html": [
       "<div style=\"overflow:auto\"><table style=\"width:50%\"><tr><td>H2O cluster uptime:</td>\n",
       "<td>57 mins 44 secs</td></tr>\n",
       "<tr><td>H2O cluster version:</td>\n",
       "<td>3.10.0.10</td></tr>\n",
       "<tr><td>H2O cluster version age:</td>\n",
       "<td>3 months and 26 days !!!</td></tr>\n",
       "<tr><td>H2O cluster name:</td>\n",
       "<td>H2O_from_python_user_fawld0</td></tr>\n",
       "<tr><td>H2O cluster total nodes:</td>\n",
       "<td>1</td></tr>\n",
       "<tr><td>H2O cluster free memory:</td>\n",
       "<td>1.851 Gb</td></tr>\n",
       "<tr><td>H2O cluster total cores:</td>\n",
       "<td>2</td></tr>\n",
       "<tr><td>H2O cluster allowed cores:</td>\n",
       "<td>2</td></tr>\n",
       "<tr><td>H2O cluster status:</td>\n",
       "<td>locked, healthy</td></tr>\n",
       "<tr><td>H2O connection url:</td>\n",
       "<td>http://localhost:54321</td></tr>\n",
       "<tr><td>H2O connection proxy:</td>\n",
       "<td>None</td></tr>\n",
       "<tr><td>Python version:</td>\n",
       "<td>2.7.11 final</td></tr></table></div>"
      ],
      "text/plain": [
       "--------------------------  ---------------------------\n",
       "H2O cluster uptime:         57 mins 44 secs\n",
       "H2O cluster version:        3.10.0.10\n",
       "H2O cluster version age:    3 months and 26 days !!!\n",
       "H2O cluster name:           H2O_from_python_user_fawld0\n",
       "H2O cluster total nodes:    1\n",
       "H2O cluster free memory:    1.851 Gb\n",
       "H2O cluster total cores:    2\n",
       "H2O cluster allowed cores:  2\n",
       "H2O cluster status:         locked, healthy\n",
       "H2O connection url:         http://localhost:54321\n",
       "H2O connection proxy:\n",
       "Python version:             2.7.11 final\n",
       "--------------------------  ---------------------------"
      ]
     },
     "metadata": {},
     "output_type": "display_data"
    }
   ],
   "source": [
    "import h2o\n",
    "h2o.init(min_mem_size='2G')"
   ]
  },
  {
   "cell_type": "code",
   "execution_count": 63,
   "metadata": {
    "collapsed": false
   },
   "outputs": [
    {
     "name": "stdout",
     "output_type": "stream",
     "text": [
      "Parse progress: |█████████████████████████████████████████████████████████| 100%\n"
     ]
    }
   ],
   "source": [
    "hdf= h2o.H2OFrame(df_poly)"
   ]
  },
  {
   "cell_type": "code",
   "execution_count": 64,
   "metadata": {
    "collapsed": false
   },
   "outputs": [],
   "source": [
    "hdf_train, hdf_validate = hdf.split_frame(ratios=[0.70], seed=10)"
   ]
  },
  {
   "cell_type": "code",
   "execution_count": 65,
   "metadata": {
    "collapsed": false
   },
   "outputs": [
    {
     "data": {
      "text/plain": [
       "[u'X1',\n",
       " u'X2',\n",
       " u'X3',\n",
       " u'X4',\n",
       " u'X5',\n",
       " u'X6',\n",
       " u'X7',\n",
       " u'X8',\n",
       " u'X9',\n",
       " u'X10',\n",
       " u'X11',\n",
       " u'X12',\n",
       " u'X13',\n",
       " u'X14',\n",
       " u'X15',\n",
       " u'X16',\n",
       " u'X17',\n",
       " u'X18',\n",
       " u'X19',\n",
       " u'X20',\n",
       " u'X21',\n",
       " u'X22',\n",
       " u'X23',\n",
       " u'X24',\n",
       " u'X25',\n",
       " u'X26',\n",
       " u'X27',\n",
       " u'X28',\n",
       " u'X29',\n",
       " u'X30',\n",
       " u'X31',\n",
       " u'X32',\n",
       " u'X33',\n",
       " u'X34',\n",
       " u'X35']"
      ]
     },
     "execution_count": 65,
     "metadata": {},
     "output_type": "execute_result"
    }
   ],
   "source": [
    "input_name= hdf.col_names\n",
    "input_name.remove('Y')\n",
    "input_name"
   ]
  },
  {
   "cell_type": "code",
   "execution_count": 66,
   "metadata": {
    "collapsed": true
   },
   "outputs": [],
   "source": [
    "from h2o.estimators.deeplearning import H2ODeepLearningEstimator"
   ]
  },
  {
   "cell_type": "code",
   "execution_count": 76,
   "metadata": {
    "collapsed": false
   },
   "outputs": [
    {
     "name": "stdout",
     "output_type": "stream",
     "text": [
      "deeplearning Model Build progress: |██████████████████████████████████████| 100%\n"
     ]
    }
   ],
   "source": [
    "dl0 = H2ODeepLearningEstimator(seed =10,hidden =[200, 200, 299], epochs =5000,l2=1e-15, model_id='dl10')\n",
    "dl0.train(x = input_name, y = 'Y', training_frame=hdf_train, validation_frame=hdf_validate)"
   ]
  },
  {
   "cell_type": "code",
   "execution_count": 77,
   "metadata": {
    "collapsed": false
   },
   "outputs": [
    {
     "data": {
      "image/png": "[encoded data removed]",
      "text/plain": [
       "<matplotlib.figure.Figure at 0xc5414a8>"
      ]
     },
     "metadata": {},
     "output_type": "display_data"
    }
   ],
   "source": [
    "dl0.plot()"
   ]
  },
  {
   "cell_type": "code",
   "execution_count": 78,
   "metadata": {
    "collapsed": false
   },
   "outputs": [
    {
     "name": "stdout",
     "output_type": "stream",
     "text": [
      "train mse:  1.82023543812\n",
      "valid mse:  2.19038845744\n"
     ]
    }
   ],
   "source": [
    "print 'train mse: ', dl0.mse(train=True)\n",
    "print 'valid mse: ', dl0.mse(valid=True)"
   ]
  },
  {
   "cell_type": "code",
   "execution_count": 79,
   "metadata": {
    "collapsed": false
   },
   "outputs": [],
   "source": [
    "# model = h2o.estimators.deeplearning(x=input_name, y='Y', training_frame=hdf_train, validation_frame=hdf_validate,\n",
    "#                                     distribution=\"multinomial\", activation=\"RectifierWithDropout\", \n",
    "#                                     hidden=[10,10,10], input_dropout_ratio=0.2, l1=1e-5, epochs=10)\n"
   ]
  },
  {
   "cell_type": "code",
   "execution_count": 80,
   "metadata": {
    "collapsed": false
   },
   "outputs": [
    {
     "name": "stdout",
     "output_type": "stream",
     "text": [
      "deeplearning prediction progress: |███████████████████████████████████████| 100%\n"
     ]
    },
    {
     "data": {
      "text/plain": [
       "<matplotlib.axes._subplots.AxesSubplot at 0xa4e6080>"
      ]
     },
     "execution_count": 80,
     "metadata": {},
     "output_type": "execute_result"
    },
    {
     "data": {
      "image/png": "[encoded data removed]",
      "text/plain": [
       "<matplotlib.figure.Figure at 0xcc647b8>"
      ]
     },
     "metadata": {},
     "output_type": "display_data"
    }
   ],
   "source": [
    "prediction= dl0.predict(hdf_validate)\n",
    "\n",
    "prediction['target']=hdf_validate['Y']\n",
    "output= prediction.as_data_frame()\n",
    "output.plot()"
   ]
  },
  {
   "cell_type": "code",
   "execution_count": null,
   "metadata": {
    "collapsed": true
   },
   "outputs": [],
   "source": []
  },
  {
   "cell_type": "code",
   "execution_count": null,
   "metadata": {
    "collapsed": true
   },
   "outputs": [],
   "source": []
  },
  {
   "cell_type": "code",
   "execution_count": null,
   "metadata": {
    "collapsed": true
   },
   "outputs": [],
   "source": []
  }
 ],
 "metadata": {
  "kernelspec": {
   "display_name": "Python 2",
   "language": "python",
   "name": "python2"
  },
  "language_info": {
   "codemirror_mode": {
    "name": "ipython",
    "version": 2
   },
   "file_extension": ".py",
   "mimetype": "text/x-python",
   "name": "python",
   "nbconvert_exporter": "python",
   "pygments_lexer": "ipython2",
   "version": "2.7.11"
  }
 },
 "nbformat": 4,
 "nbformat_minor": 0
}
